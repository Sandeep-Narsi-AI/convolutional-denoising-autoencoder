{
  "nbformat": 4,
  "nbformat_minor": 0,
  "metadata": {
    "colab": {
      "provenance": []
    },
    "kernelspec": {
      "name": "python3",
      "display_name": "Python 3"
    },
    "language_info": {
      "name": "python"
    }
  },
  "cells": [
    {
      "cell_type": "code",
      "execution_count": 2,
      "metadata": {
        "id": "ysmAx0_5imz9"
      },
      "outputs": [],
      "source": [
        "from tensorflow import keras\n",
        "from tensorflow.keras import layers\n",
        "from tensorflow.keras import utils\n",
        "from tensorflow.keras import models\n",
        "from tensorflow.keras.datasets import mnist\n",
        "import numpy as np\n",
        "import matplotlib.pyplot as plt"
      ]
    },
    {
      "cell_type": "code",
      "source": [
        "#Loading the data set\n",
        "(x_train, _) , (x_test, _) = mnist.load_data()"
      ],
      "metadata": {
        "id": "A65OI8kpi-Aq",
        "colab": {
          "base_uri": "https://localhost:8080/"
        },
        "outputId": "59bad938-1b47-4a4e-bcad-f497a86dd83d"
      },
      "execution_count": 3,
      "outputs": [
        {
          "output_type": "stream",
          "name": "stdout",
          "text": [
            "Downloading data from https://storage.googleapis.com/tensorflow/tf-keras-datasets/mnist.npz\n",
            "11490434/11490434 [==============================] - 0s 0us/step\n"
          ]
        }
      ]
    },
    {
      "cell_type": "code",
      "source": [
        "#finding the shape\n",
        "x_train.shape"
      ],
      "metadata": {
        "colab": {
          "base_uri": "https://localhost:8080/"
        },
        "id": "Ae2IX1btjHO1",
        "outputId": "300d2555-7508-40f8-9eec-485d24d1e0db"
      },
      "execution_count": 6,
      "outputs": [
        {
          "output_type": "execute_result",
          "data": {
            "text/plain": [
              "(60000, 28, 28)"
            ]
          },
          "metadata": {},
          "execution_count": 6
        }
      ]
    },
    {
      "cell_type": "code",
      "source": [
        "# scaling the image and reshaping\n",
        "x_train_scaled = x_train.astype('float32') / 255.\n",
        "x_test_scaled = x_test.astype('float32') / 255.\n",
        "x_train_scaled = np.reshape(x_train_scaled, (len(x_train_scaled), 28, 28, 1))\n",
        "x_test_scaled = np.reshape(x_test_scaled, (len(x_test_scaled), 28, 28, 1))"
      ],
      "metadata": {
        "id": "uoKGXmfljLDg"
      },
      "execution_count": 7,
      "outputs": []
    },
    {
      "cell_type": "code",
      "source": [
        "#adding the noise factor for the image\n",
        "noise_factor = 0.5\n",
        "x_train_noisy = x_train_scaled + noise_factor * np.random.normal(loc=0.0, scale=1.0, size=x_train_scaled.shape) \n",
        "x_test_noisy = x_test_scaled + noise_factor * np.random.normal(loc=0.0, scale=1.0, size=x_test_scaled.shape) \n",
        "\n",
        "x_train_noisy = np.clip(x_train_noisy, 0., 1.)\n",
        "x_test_noisy = np.clip(x_test_noisy, 0., 1.)"
      ],
      "metadata": {
        "id": "-K6Yk8SJj8VO"
      },
      "execution_count": 8,
      "outputs": []
    },
    {
      "cell_type": "code",
      "source": [
        "n = 3\n",
        "plt.figure(figsize=(10, 2))\n",
        "for i in range(1, n + 1):\n",
        "    ax = plt.subplot(1, n, i)\n",
        "    plt.imshow(x_test_noisy[i].reshape(28, 28))\n",
        "    plt.gray()\n",
        "    ax.get_xaxis().set_visible(False)\n",
        "    ax.get_yaxis().set_visible(False)\n",
        "plt.show()"
      ],
      "metadata": {
        "colab": {
          "base_uri": "https://localhost:8080/",
          "height": 191
        },
        "id": "8u9ScOSHG2J2",
        "outputId": "875e7f7c-3eca-4e40-bccb-b654a03bcce2"
      },
      "execution_count": 17,
      "outputs": [
        {
          "output_type": "display_data",
          "data": {
            "text/plain": [
              "<Figure size 1000x200 with 3 Axes>"
            ],
            "image/png": "[encoded data removed]"
          },
          "metadata": {}
        }
      ]
    },
    {
      "cell_type": "code",
      "source": [
        "input_img = keras.Input(shape=(28, 28, 1))\n",
        "conv1  = layers.Conv2D(32,(3,3),activation ='relu',padding = 'same')(input_img)\n",
        "maxpool1 = layers.MaxPooling2D((2,2),padding='same')(conv1)\n",
        "conv2  = layers.Conv2D(32,(3,3),activation ='relu',padding = 'same')(maxpool1)\n",
        "maxpool2 = layers.MaxPooling2D((2,2),padding='same')(conv1)\n",
        "conv3  = layers.Conv2D(32,(3,3),activation ='relu',padding = 'same')(maxpool2)\n",
        "maxpool3 = layers.MaxPooling2D((2,2),padding='same')(conv3)\n",
        "conv4  = layers.Conv2D(32,(3,3),activation ='relu',padding = 'same')(maxpool3)\n",
        "upsamp1 = layers.UpSampling2D((2,2))(conv4)\n",
        "conv5  = layers.Conv2D(32,(3,3),activation ='relu',padding = 'same')(upsamp1)\n",
        "upsamp2 = layers.UpSampling2D((2,2))(conv5)\n",
        "output = layers.Conv2D(1, (3, 3), activation='sigmoid', padding='same')(upsamp2)\n",
        "\n",
        "autoencoder = keras.Model(input_img, output)\n",
        "\n",
        "autoencoder.compile(optimizer='adam', loss='binary_crossentropy')\n",
        "autoencoder.fit(x_train_noisy, x_train_scaled,\n",
        "                epochs=2,\n",
        "                batch_size=128,\n",
        "                shuffle=True,\n",
        "                validation_data=(x_test_noisy, x_test_scaled))"
      ],
      "metadata": {
        "colab": {
          "base_uri": "https://localhost:8080/"
        },
        "id": "WAGNbpyGHwxx",
        "outputId": "2f1a19ec-219a-4ec5-b3b5-0cc23a31df42"
      },
      "execution_count": 19,
      "outputs": [
        {
          "output_type": "stream",
          "name": "stdout",
          "text": [
            "Epoch 1/2\n",
            "469/469 [==============================] - 113s 239ms/step - loss: 0.1552 - val_loss: 0.1131\n",
            "Epoch 2/2\n",
            "469/469 [==============================] - 113s 242ms/step - loss: 0.1103 - val_loss: 0.1072\n"
          ]
        },
        {
          "output_type": "execute_result",
          "data": {
            "text/plain": [
              "<keras.callbacks.History at 0x7f5e566bcdf0>"
            ]
          },
          "metadata": {},
          "execution_count": 19
        }
      ]
    },
    {
      "cell_type": "code",
      "source": [
        "autoencoder.summary()"
      ],
      "metadata": {
        "colab": {
          "base_uri": "https://localhost:8080/"
        },
        "id": "NXJrwakEKlUr",
        "outputId": "770b6e43-8bee-4bda-b80b-304e69dfdf75"
      },
      "execution_count": 24,
      "outputs": [
        {
          "output_type": "stream",
          "name": "stdout",
          "text": [
            "Model: \"model\"\n",
            "_________________________________________________________________\n",
            " Layer (type)                Output Shape              Param #   \n",
            "=================================================================\n",
            " input_2 (InputLayer)        [(None, 28, 28, 1)]       0         \n",
            "                                                                 \n",
            " conv2d (Conv2D)             (None, 28, 28, 32)        320       \n",
            "                                                                 \n",
            " max_pooling2d_2 (MaxPooling  (None, 14, 14, 32)       0         \n",
            " 2D)                                                             \n",
            "                                                                 \n",
            " conv2d_2 (Conv2D)           (None, 14, 14, 32)        9248      \n",
            "                                                                 \n",
            " max_pooling2d_3 (MaxPooling  (None, 7, 7, 32)         0         \n",
            " 2D)                                                             \n",
            "                                                                 \n",
            " conv2d_3 (Conv2D)           (None, 7, 7, 32)          9248      \n",
            "                                                                 \n",
            " up_sampling2d (UpSampling2D  (None, 14, 14, 32)       0         \n",
            " )                                                               \n",
            "                                                                 \n",
            " conv2d_4 (Conv2D)           (None, 14, 14, 32)        9248      \n",
            "                                                                 \n",
            " up_sampling2d_1 (UpSampling  (None, 28, 28, 32)       0         \n",
            " 2D)                                                             \n",
            "                                                                 \n",
            " conv2d_5 (Conv2D)           (None, 28, 28, 1)         289       \n",
            "                                                                 \n",
            "=================================================================\n",
            "Total params: 28,353\n",
            "Trainable params: 28,353\n",
            "Non-trainable params: 0\n",
            "_________________________________________________________________\n"
          ]
        }
      ]
    },
    {
      "cell_type": "code",
      "source": [
        "decoded_imgs = autoencoder.predict(x_test_noisy)\n",
        "n = 3\n",
        "plt.figure(figsize=(20, 4))\n",
        "for i in range(1, n + 1):\n",
        "    # Display original\n",
        "    ax = plt.subplot(3, n, i)\n",
        "    plt.imshow(x_test_scaled[i].reshape(28, 28))\n",
        "    plt.gray()\n",
        "    ax.get_xaxis().set_visible(False)\n",
        "    ax.get_yaxis().set_visible(False)\n",
        "\n",
        "    # Display noisy\n",
        "    ax = plt.subplot(3, n, i+n)\n",
        "    plt.imshow(x_test_noisy[i].reshape(28, 28))\n",
        "    plt.gray()\n",
        "    ax.get_xaxis().set_visible(False)\n",
        "    ax.get_yaxis().set_visible(False)    \n",
        "\n",
        "    # Display reconstruction\n",
        "    ax = plt.subplot(3, n, i + 2*n)\n",
        "    plt.imshow(decoded_imgs[i].reshape(28, 28))\n",
        "    plt.gray()\n",
        "    ax.get_xaxis().set_visible(False)\n",
        "    ax.get_yaxis().set_visible(False)\n",
        "plt.show()"
      ],
      "metadata": {
        "colab": {
          "base_uri": "https://localhost:8080/",
          "height": 362
        },
        "id": "2_oJ3a8KIAU4",
        "outputId": "f86860b6-934c-43d8-f421-64faf3d2de39"
      },
      "execution_count": 23,
      "outputs": [
        {
          "output_type": "stream",
          "name": "stdout",
          "text": [
            "313/313 [==============================] - 4s 14ms/step\n"
          ]
        },
        {
          "output_type": "display_data",
          "data": {
            "text/plain": [
              "<Figure size 2000x400 with 9 Axes>"
            ],
            "image/png": "[encoded data removed]"
          },
          "metadata": {}
        }
      ]
    },
    {
      "cell_type": "code",
      "source": [],
      "metadata": {
        "id": "TwPlf86jJ1iV"
      },
      "execution_count": null,
      "outputs": []
    }
  ]
}